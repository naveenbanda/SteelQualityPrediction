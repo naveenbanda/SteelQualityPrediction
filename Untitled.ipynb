{
 "cells": [
  {
   "cell_type": "code",
   "execution_count": 36,
   "metadata": {
    "collapsed": true
   },
   "outputs": [],
   "source": [
    "import csv\n",
    "import math\n",
    "import operator"
   ]
  },
  {
   "cell_type": "code",
   "execution_count": 38,
   "metadata": {
    "collapsed": true
   },
   "outputs": [],
   "source": [
    "#function to calculate the entropy of thee dataset\n",
    "def calEntropy(dataset):\n",
    "    entropy=0\n",
    "    labels=[row[-1] for row in dataset]\n",
    "    uniqueLabelSet=set(labels)\n",
    "    labelCount={}\n",
    "    for label in labels:\n",
    "        if label not in labelCount.keys():\n",
    "            labelCount[label]=1\n",
    "        else:\n",
    "            labelCount[label]+=1\n",
    "    for label in uniqueLabelSet:\n",
    "        prob=float(labelCount[label]/float(len(dataset)))\n",
    "        entropy-=prob*math.log(prob,2)\n",
    "    return entropy"
   ]
  },
  {
   "cell_type": "code",
   "execution_count": 64,
   "metadata": {
    "collapsed": true
   },
   "outputs": [],
   "source": [
    "#function to create the Decision Tree\n",
    "def generateTree(dataset,label):\n",
    "    labelList=[row[-1] for row in dataset]\n",
    "    if labelList.count(labelList[0])==len(labelList):\n",
    "        return labelList[0]\n",
    "    if len(dataset[0])==1:\n",
    "        return majorityCount[labelList]\n",
    "    bestFeature=bestFeatureToSplit(dataset)\n",
    "    bestFeatureLabel=label[bestFeature]\n",
    "    DecisionTree={bestFeatureLabel:{}}\n",
    "    del (label[bestFeature])\n",
    "    featureValues=[row[bestFeature] for row in dataset]\n",
    "    uniqueFeatureValues=set(featureValues)\n",
    "    for value in uniqueFeatureValues:\n",
    "        subDataset=splitDataset(dataset,bestFeature,value)\n",
    "        subLabel=label[:]\n",
    "        DecisionTree[bestFeatureLabel][value]=generateTree(subDataset,subLabel)\n",
    "    return DecisionTree\n",
    "\n",
    "        \n",
    "    "
   ]
  },
  {
   "cell_type": "code",
   "execution_count": null,
   "metadata": {
    "collapsed": true
   },
   "outputs": [],
   "source": []
  },
  {
   "cell_type": "code",
   "execution_count": null,
   "metadata": {
    "collapsed": true
   },
   "outputs": [],
   "source": []
  },
  {
   "cell_type": "code",
   "execution_count": null,
   "metadata": {
    "collapsed": true
   },
   "outputs": [],
   "source": []
  },
  {
   "cell_type": "code",
   "execution_count": 44,
   "metadata": {
    "collapsed": true
   },
   "outputs": [],
   "source": [
    "#function to count major class values in class list\n",
    "def majorityCount(classList):\n",
    "    classCount={}\n",
    "    for class_value in classList:\n",
    "        if class_value not in classCount.keys():\n",
    "            classCount[class_value]=0\n",
    "        classCount[class_value]+=1\n",
    "    sortedClassCount=sorted(classCount.iteritems(),key=operator.itemgetter(1),reverse=True)\n",
    "    return sortedClassCount\n",
    "\n"
   ]
  },
  {
   "cell_type": "code",
   "execution_count": null,
   "metadata": {
    "collapsed": true
   },
   "outputs": [],
   "source": []
  },
  {
   "cell_type": "code",
   "execution_count": null,
   "metadata": {
    "collapsed": true
   },
   "outputs": [],
   "source": []
  },
  {
   "cell_type": "code",
   "execution_count": 50,
   "metadata": {
    "collapsed": true
   },
   "outputs": [],
   "source": [
    "#function for determining the best feature for splitting the dataset\n",
    "def bestFeatureToSplit(dataset):\n",
    "    featureNum=len(dataset[0])-1\n",
    "    bestFeature=-1\n",
    "    bestInfoGain=0.0\n",
    "    baseEntropy=calEntropy(dataset)\n",
    "    \n",
    "    for feature in range(featureNum):\n",
    "        newEntropy=0\n",
    "        featureValue=[row[feature] for row in dataset]\n",
    "        uniqueFeatureValue=set(featureValue)\n",
    "        for value in uniqueFeatureValue:\n",
    "            subDataset=splitDataset(dataset,feature,value)\n",
    "            prob=len(subDataset)/float(len(dataset))\n",
    "            newEntropy+=prob*calEntropy(subDataset)\n",
    "        infoGain=baseEntropy-newEntropy\n",
    "        if infoGain>bestInfoGain:\n",
    "            bestInfoGain=infoGain\n",
    "            bestFeature=feature\n",
    "    return bestFeature\n",
    "\n"
   ]
  },
  {
   "cell_type": "code",
   "execution_count": null,
   "metadata": {
    "collapsed": true
   },
   "outputs": [],
   "source": []
  },
  {
   "cell_type": "code",
   "execution_count": null,
   "metadata": {
    "collapsed": true
   },
   "outputs": [],
   "source": []
  },
  {
   "cell_type": "code",
   "execution_count": 51,
   "metadata": {
    "collapsed": true
   },
   "outputs": [],
   "source": [
    "#fucntion splits the dataset according to the given feature and value\n",
    "def splitDataset(dataset,feature,value):\n",
    "    returnDataset=[]\n",
    "    for row in dataset:\n",
    "        if row[feature]==value:\n",
    "            reducedRow=row[:feature]\n",
    "            reducedRow.extend(row[feature+1:])\n",
    "            returnDataset.append(reducedRow)\n",
    "    return returnDataset\n",
    "\n"
   ]
  },
  {
   "cell_type": "code",
   "execution_count": null,
   "metadata": {
    "collapsed": true
   },
   "outputs": [],
   "source": []
  },
  {
   "cell_type": "code",
   "execution_count": null,
   "metadata": {
    "collapsed": true
   },
   "outputs": [],
   "source": []
  },
  {
   "cell_type": "code",
   "execution_count": null,
   "metadata": {
    "collapsed": true
   },
   "outputs": [],
   "source": []
  },
  {
   "cell_type": "code",
   "execution_count": null,
   "metadata": {
    "collapsed": true
   },
   "outputs": [],
   "source": []
  },
  {
   "cell_type": "code",
   "execution_count": null,
   "metadata": {
    "collapsed": true
   },
   "outputs": [],
   "source": []
  },
  {
   "cell_type": "code",
   "execution_count": null,
   "metadata": {
    "collapsed": true
   },
   "outputs": [],
   "source": []
  },
  {
   "cell_type": "code",
   "execution_count": null,
   "metadata": {
    "collapsed": true
   },
   "outputs": [],
   "source": []
  },
  {
   "cell_type": "code",
   "execution_count": null,
   "metadata": {
    "collapsed": true
   },
   "outputs": [],
   "source": []
  },
  {
   "cell_type": "code",
   "execution_count": 53,
   "metadata": {
    "collapsed": true
   },
   "outputs": [],
   "source": [
    "#function to read file and return the dataset\n",
    "def getData(filename):\n",
    "    with open(filename,\"r\") as f:\n",
    "        lines=csv.reader(f)\n",
    "        dataset=list(lines)\n",
    "        dataset=preprocess(dataset)\n",
    "        return dataset\n",
    "        #print (dataset)\n",
    "        "
   ]
  },
  {
   "cell_type": "code",
   "execution_count": null,
   "metadata": {
    "collapsed": true
   },
   "outputs": [],
   "source": []
  },
  {
   "cell_type": "code",
   "execution_count": 57,
   "metadata": {},
   "outputs": [],
   "source": [
    "#function for preprocessing the dataset\n",
    "def preprocess(dataset):\n",
    "    \n",
    "    #Change all attributes's classes to class of integers except atrributes with continuous values\n",
    "    continuous=[3,4,8,32,33,34]\n",
    "    total_attributes=len(dataset[0])\n",
    "    for attribute in range(total_attributes):\n",
    "        if attribute not in continuous:\n",
    "            classes_in_attributes=list(set([row[attribute] for row in dataset]))\n",
    "            classDict={}\n",
    "            for index in range(len(classes_in_attributes)):\n",
    "                classDict[classes_in_attributes[index]]=index\n",
    "            for row in dataset:\n",
    "                row[attribute]=int(classDict[row[attribute]])\n",
    "    \n",
    "    for attribute in continuous:\n",
    "        for row in dataset:\n",
    "            row[attribute]=float(row[attribute])\n",
    "                \n",
    "    for attribute in continuous:\n",
    "        bins=10\n",
    "        binSize=0\n",
    "        minVal=(dataset[0][attribute])\n",
    "        maxVal=(dataset[0][attribute])\n",
    "        for i in range(1,len(dataset)):\n",
    "            if dataset[i][attribute]>maxVal:\n",
    "                maxVal=dataset[i][attribute]\n",
    "            elif dataset[i][attribute]<minVal:\n",
    "                minVal=dataset[i][attribute]\n",
    "        binSize=(maxVal-minVal)/bins\n",
    "        #print (attribute,minVal,maxVal)\n",
    "        for i in range(bins):\n",
    "            for row in dataset:\n",
    "                if row[attribute]>=minVal+(i*binSize) and row[attribute]<=minVal+((i+1)*binSize):\n",
    "                    row[attribute]=i\n",
    "        \n",
    "        #column=[row[attribute] for row in dataset]\n",
    "        #print (column)\n",
    "    return dataset\n",
    "            \n",
    "            \n",
    "    #for i in range(len(dataset)):\n",
    "        #print (dataset[i][3],dataset[i][38])\n",
    "    "
   ]
  },
  {
   "cell_type": "code",
   "execution_count": null,
   "metadata": {
    "collapsed": true
   },
   "outputs": [],
   "source": []
  },
  {
   "cell_type": "code",
   "execution_count": null,
   "metadata": {
    "collapsed": true
   },
   "outputs": [],
   "source": []
  },
  {
   "cell_type": "code",
   "execution_count": null,
   "metadata": {
    "collapsed": true
   },
   "outputs": [],
   "source": []
  },
  {
   "cell_type": "code",
   "execution_count": null,
   "metadata": {
    "collapsed": true
   },
   "outputs": [],
   "source": []
  },
  {
   "cell_type": "code",
   "execution_count": null,
   "metadata": {
    "collapsed": true
   },
   "outputs": [],
   "source": []
  },
  {
   "cell_type": "code",
   "execution_count": null,
   "metadata": {
    "collapsed": true
   },
   "outputs": [],
   "source": []
  },
  {
   "cell_type": "code",
   "execution_count": null,
   "metadata": {
    "collapsed": true
   },
   "outputs": [],
   "source": []
  },
  {
   "cell_type": "code",
   "execution_count": 60,
   "metadata": {
    "scrolled": true
   },
   "outputs": [],
   "source": [
    "#function main to bring all the things together and predict\n",
    "def main():\n",
    "    dataset=getData(\"train.csv\")\n",
    "    labels=[i for i in range(38)]\n",
    "    decisionTree=generateTree(dataset,labels)\n",
    "    print (decisionTree)"
   ]
  },
  {
   "cell_type": "code",
   "execution_count": null,
   "metadata": {
    "collapsed": true
   },
   "outputs": [],
   "source": []
  },
  {
   "cell_type": "code",
   "execution_count": null,
   "metadata": {
    "collapsed": true
   },
   "outputs": [],
   "source": []
  },
  {
   "cell_type": "code",
   "execution_count": null,
   "metadata": {
    "collapsed": true
   },
   "outputs": [],
   "source": []
  },
  {
   "cell_type": "code",
   "execution_count": 65,
   "metadata": {},
   "outputs": [
    {
     "name": "stdout",
     "output_type": "stream",
     "text": [
      "{11: {0: {2: {0: {0: {0: 1, 1: 0}}, 1: 2, 2: 3, 3: {3: {0: 0, 9: 2}}, 4: {6: {1: 3, 2: {0: {1: 2, 2: 0}}}}, 6: {12: {0: 2, 1: 3}}, 7: {6: {0: 1, 1: 2, 2: 3}}}}, 1: {4: {0: {3: {0: 2, 1: 4}}, 9: 4, 5: 2, 8: 2}}, 2: 2, 3: {4: {0: {8: {0: 2, 8: 3, 4: 2, 7: 2}}, 9: {21: {0: {32: {0: 2, 9: 4}}, 1: 4}}, 5: 2, 8: 2, 7: 2}}, 4: 2}}\n"
     ]
    }
   ],
   "source": [
    "main()"
   ]
  },
  {
   "cell_type": "code",
   "execution_count": null,
   "metadata": {
    "collapsed": true
   },
   "outputs": [],
   "source": []
  },
  {
   "cell_type": "code",
   "execution_count": null,
   "metadata": {
    "collapsed": true
   },
   "outputs": [],
   "source": []
  },
  {
   "cell_type": "code",
   "execution_count": null,
   "metadata": {
    "collapsed": true
   },
   "outputs": [],
   "source": []
  },
  {
   "cell_type": "code",
   "execution_count": null,
   "metadata": {
    "collapsed": true
   },
   "outputs": [],
   "source": []
  },
  {
   "cell_type": "code",
   "execution_count": null,
   "metadata": {
    "collapsed": true
   },
   "outputs": [],
   "source": []
  },
  {
   "cell_type": "code",
   "execution_count": null,
   "metadata": {
    "collapsed": true
   },
   "outputs": [],
   "source": []
  },
  {
   "cell_type": "code",
   "execution_count": null,
   "metadata": {
    "collapsed": true
   },
   "outputs": [],
   "source": []
  },
  {
   "cell_type": "code",
   "execution_count": null,
   "metadata": {
    "collapsed": true
   },
   "outputs": [],
   "source": []
  },
  {
   "cell_type": "code",
   "execution_count": null,
   "metadata": {
    "collapsed": true
   },
   "outputs": [],
   "source": []
  },
  {
   "cell_type": "code",
   "execution_count": null,
   "metadata": {
    "collapsed": true
   },
   "outputs": [],
   "source": []
  },
  {
   "cell_type": "code",
   "execution_count": null,
   "metadata": {
    "collapsed": true
   },
   "outputs": [],
   "source": []
  },
  {
   "cell_type": "code",
   "execution_count": null,
   "metadata": {
    "collapsed": true
   },
   "outputs": [],
   "source": []
  },
  {
   "cell_type": "code",
   "execution_count": null,
   "metadata": {
    "collapsed": true
   },
   "outputs": [],
   "source": []
  },
  {
   "cell_type": "code",
   "execution_count": null,
   "metadata": {
    "collapsed": true
   },
   "outputs": [],
   "source": []
  },
  {
   "cell_type": "code",
   "execution_count": null,
   "metadata": {
    "collapsed": true
   },
   "outputs": [],
   "source": []
  },
  {
   "cell_type": "code",
   "execution_count": null,
   "metadata": {
    "collapsed": true
   },
   "outputs": [],
   "source": []
  },
  {
   "cell_type": "code",
   "execution_count": null,
   "metadata": {
    "collapsed": true
   },
   "outputs": [],
   "source": []
  }
 ],
 "metadata": {
  "kernelspec": {
   "display_name": "Python 2",
   "language": "python",
   "name": "python2"
  },
  "language_info": {
   "codemirror_mode": {
    "name": "ipython",
    "version": 2
   },
   "file_extension": ".py",
   "mimetype": "text/x-python",
   "name": "python",
   "nbconvert_exporter": "python",
   "pygments_lexer": "ipython2",
   "version": "2.7.12"
  }
 },
 "nbformat": 4,
 "nbformat_minor": 2
}

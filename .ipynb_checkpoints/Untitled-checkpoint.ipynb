{
 "cells": [
  {
   "cell_type": "code",
   "execution_count": 1,
   "metadata": {
    "collapsed": true
   },
   "outputs": [],
   "source": [
    "import csv"
   ]
  },
  {
   "cell_type": "code",
   "execution_count": 83,
   "metadata": {
    "collapsed": true
   },
   "outputs": [],
   "source": [
    "#function to read file and return the dataset\n",
    "def getData(filename):\n",
    "    with open(filename,\"r\") as f:\n",
    "        lines=csv.reader(f)\n",
    "        dataset=list(lines)\n",
    "        dataset=preprocess(dataset)\n",
    "        #print (dataset)\n",
    "        "
   ]
  },
  {
   "cell_type": "code",
   "execution_count": 122,
   "metadata": {},
   "outputs": [],
   "source": [
    "#function for preprocessing the dataset\n",
    "def preprocess(dataset):\n",
    "    \n",
    "    #Change all attributes's classes to class of integers\n",
    "    continuous=[3,4,8,32,33,34]\n",
    "    total_attributes=len(dataset[0])\n",
    "    for attribute in range(total_attributes):\n",
    "        classes_in_attributes=list(set([row[attribute] for row in dataset]))\n",
    "        classDict={}\n",
    "        for index in range(len(classes_in_attributes)):\n",
    "            classDict[classes_in_attributes[index]]=index\n",
    "        for row in dataset:\n",
    "            row[attribute]=classDict[row[attribute]]\n",
    "            \n",
    "            \n",
    "    "
   ]
  },
  {
   "cell_type": "code",
   "execution_count": 123,
   "metadata": {
    "scrolled": true
   },
   "outputs": [],
   "source": [
    "getData(\"train.csv\")"
   ]
  }
 ],
 "metadata": {
  "kernelspec": {
   "display_name": "Python 2",
   "language": "python",
   "name": "python2"
  },
  "language_info": {
   "codemirror_mode": {
    "name": "ipython",
    "version": 2
   },
   "file_extension": ".py",
   "mimetype": "text/x-python",
   "name": "python",
   "nbconvert_exporter": "python",
   "pygments_lexer": "ipython2",
   "version": "2.7.12"
  }
 },
 "nbformat": 4,
 "nbformat_minor": 2
}

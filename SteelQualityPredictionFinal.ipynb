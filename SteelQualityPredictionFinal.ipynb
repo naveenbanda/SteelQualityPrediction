{
 "cells": [
  {
   "cell_type": "code",
   "execution_count": 63,
   "metadata": {},
   "outputs": [
    {
     "name": "stdout",
     "output_type": "stream",
     "text": [
      "{'thick': {0: '3', 5: {'family': {0: '5', 1: {'carbon': {0: '3', 3: '1', 4: '3', 6: '3'}}}}, 7: {'family': {0: '5', 1: '3', 2: '3'}}, 8: '3', 9: '3', 10: '3', 11: {'steel': {0: {'surface-quality': {0: '5', 1: '3', 3: {'hardness': {56: '3', 65: '3', 75: 'U', 0: '3', 47: '3'}}}}, 1: '3', 3: '1', 4: {'width': {1: '2', 3: '3', 68: {'surface-quality': {0: '2', 1: '3'}}, 69: '2', 78: '2', 47: '1', 48: '1', 31: {'surface-quality': {0: '2', 1: '3'}}}}, 5: '3', 6: {'enamelability': {0: '3', 1: '2'}}, 7: {'family': {0: '5', 1: '3'}}}}, 13: {'strength': {0: '3', 57: '3', 68: '2', 39: '3'}}, 15: {'hardness': {0: {'steel': {0: '3', 1: '3', 3: '1', 4: '3', 7: '3'}}, 42: '3', 79: 'U', 47: '3'}}, 16: {'hardness': {0: '3', 56: '3', 79: 'U', 47: '3'}}, 17: '3', 18: '3', 20: {'formability': {1: {'family': {0: '5', 1: '3', 2: '3'}}, 2: {'surface-quality': {0: '2', 1: '3', 3: '3'}}, 3: '3', 4: {'hardness': {0: {'steel': {0: 'U', 4: '3'}}, 42: '3', 79: 'U', 47: '3'}}}}, 22: '2', 24: '3', 26: '3', 28: {'surface-quality': {0: {'family': {0: '5', 1: {'condition': {1: '2', 2: {'steel': {3: '3', 4: '3', 7: '2'}}}}}}, 1: '3', 2: '3', 3: {'strength': {0: {'hardness': {0: '3', 75: 'U'}}, 57: '3', 35: '3', 68: '2', 39: '3'}}}}, 35: '3', 37: {'steel': {0: '3', 2: '2', 3: '3', 4: '2', 6: '2', 7: '2'}}, 41: '3', 43: '3', 47: '3', 48: '3', 54: '3', 58: {'hardness': {0: '3', 42: '3', 79: 'U', 47: '3'}}, 62: {'hardness': {0: {'carbon': {0: '3', 74: '3', 75: '3', 77: 'U', 79: '3'}}, 47: '3', 79: 'U'}}, 65: '3', 69: '3', 79: {'hardness': {0: '3', 56: '3', 79: 'U', 47: '3'}}}}\n",
      "actual: 3\tPredicted: 3\n",
      "actual: 3\tPredicted: 3\n",
      "actual: U\tPredicted: U\n",
      "actual: 3\tPredicted: 3\n",
      "actual: 3\tPredicted: 3\n",
      "actual: 5\tPredicted: 5\n",
      "actual: 2\tPredicted: -1\n",
      "actual: 2\tPredicted: -1\n",
      "actual: 3\tPredicted: 3\n",
      "actual: 3\tPredicted: 3\n",
      "actual: 3\tPredicted: 3\n",
      "actual: 3\tPredicted: 5\n",
      "actual: 3\tPredicted: 3\n",
      "actual: 2\tPredicted: 3\n",
      "actual: 3\tPredicted: 3\n",
      "actual: 3\tPredicted: 3\n",
      "actual: 3\tPredicted: 3\n",
      "actual: 3\tPredicted: 3\n",
      "actual: 3\tPredicted: 3\n",
      "actual: 3\tPredicted: 3\n",
      "actual: 3\tPredicted: 3\n",
      "actual: 5\tPredicted: 3\n",
      "actual: 5\tPredicted: 5\n",
      "actual: 3\tPredicted: 3\n",
      "actual: 3\tPredicted: 3\n",
      "actual: 3\tPredicted: 3\n",
      "actual: 3\tPredicted: 3\n",
      "actual: 5\tPredicted: 3\n",
      "actual: 3\tPredicted: 3\n",
      "actual: 3\tPredicted: 3\n",
      "actual: 3\tPredicted: 3\n",
      "actual: 3\tPredicted: 3\n",
      "actual: 3\tPredicted: -1\n",
      "actual: 3\tPredicted: 3\n",
      "actual: 3\tPredicted: 3\n",
      "actual: 3\tPredicted: 3\n",
      "actual: 3\tPredicted: 3\n",
      "actual: 3\tPredicted: 3\n",
      "actual: U\tPredicted: U\n",
      "actual: 3\tPredicted: 3\n",
      "actual: 3\tPredicted: 3\n",
      "actual: 3\tPredicted: 3\n",
      "actual: 3\tPredicted: 3\n",
      "actual: 3\tPredicted: 3\n",
      "actual: 3\tPredicted: 3\n",
      "actual: 3\tPredicted: 3\n",
      "actual: 3\tPredicted: 3\n",
      "actual: 3\tPredicted: 3\n",
      "actual: 3\tPredicted: -1\n",
      "actual: 3\tPredicted: 3\n",
      "actual: 3\tPredicted: 3\n",
      "actual: 3\tPredicted: 3\n",
      "actual: 3\tPredicted: 3\n",
      "actual: 3\tPredicted: 3\n",
      "actual: 3\tPredicted: 3\n",
      "actual: 3\tPredicted: 3\n",
      "actual: 3\tPredicted: 3\n",
      "actual: 3\tPredicted: 3\n",
      "actual: 2\tPredicted: -1\n",
      "actual: 3\tPredicted: 3\n",
      "actual: 3\tPredicted: 3\n",
      "actual: 3\tPredicted: 3\n",
      "actual: 2\tPredicted: 3\n",
      "actual: 3\tPredicted: -1\n",
      "actual: 3\tPredicted: 3\n",
      "actual: 3\tPredicted: U\n",
      "actual: 3\tPredicted: 3\n",
      "actual: 3\tPredicted: 3\n",
      "actual: 2\tPredicted: 2\n",
      "actual: 3\tPredicted: 3\n",
      "actual: U\tPredicted: 3\n",
      "actual: 3\tPredicted: 3\n",
      "actual: U\tPredicted: -1\n",
      "actual: 3\tPredicted: 3\n",
      "actual: 3\tPredicted: 3\n",
      "actual: 3\tPredicted: 3\n",
      "actual: 3\tPredicted: 3\n",
      "actual: 3\tPredicted: -1\n",
      "actual: 3\tPredicted: 3\n",
      "actual: 3\tPredicted: 3\n",
      "actual: 3\tPredicted: 3\n",
      "actual: 3\tPredicted: 3\n",
      "actual: 2\tPredicted: 3\n",
      "actual: 3\tPredicted: 3\n",
      "actual: 3\tPredicted: 3\n",
      "actual: 3\tPredicted: 3\n",
      "actual: 3\tPredicted: 3\n",
      "actual: 3\tPredicted: 3\n",
      "actual: 3\tPredicted: 2\n",
      "actual: 3\tPredicted: 3\n",
      "actual: 3\tPredicted: 3\n",
      "actual: 5\tPredicted: 3\n",
      "actual: 5\tPredicted: 3\n",
      "actual: 2\tPredicted: 3\n",
      "actual: 5\tPredicted: 5\n",
      "actual: 2\tPredicted: 3\n",
      "actual: 2\tPredicted: 3\n",
      "actual: 2\tPredicted: 3\n",
      "actual: U\tPredicted: U\n",
      "actual: U\tPredicted: U\n",
      "Accuracy Percentage: 77.0\n"
     ]
    }
   ],
   "source": [
    "'''\n",
    "Decision Tree Source Code for Steel Quality Prediction\n",
    "@author: Naveen Kumar\n",
    "'''\n",
    "\n",
    "from math import log\n",
    "import operator\n",
    "import csv\n",
    "\n",
    "\n",
    "def createDataSet(filename):\n",
    "    with open(filename,\"r\") as f:\n",
    "        lines=csv.reader(f)\n",
    "        dataset=list(lines)\n",
    "        dataset=preprocess(dataset)\n",
    "        f.close()\n",
    "        labels=[\"family\",\"product-type\",\"steel\",\"carbon\",\"hardness\",\"temper_rolling\",\"condition\",\"formability\",\"strength\",\"non-ageing\",\"surface-finish\",\"surface-quality\",\"enamelability\",\"bc\",\"bf\",\"bt\",\"bw/me\",\"bl\",\"m\",\"chrom\",\"phos\",\"cbond\",\"marvi\",\"exptl\",\"ferro\",\"corr\",\"blue/bright/varn/clean\",\"lustre\",\"jurofm\",\"s\",\"p\",\"shape\",\"thick\",\"width\",\"len\",\"oil\",\"bore\",\"packing\"]\n",
    "    return dataset, labels\n",
    "\n",
    "\n",
    "\n",
    "def calcShannonEnt(dataSet):\n",
    "    numEntries = len(dataSet)\n",
    "    labelCounts = {}\n",
    "    for featVec in dataSet:  # the the number of unique elements and their occurance\n",
    "        currentLabel = featVec[-1]\n",
    "        if currentLabel not in labelCounts.keys(): labelCounts[currentLabel] = 0\n",
    "        labelCounts[currentLabel] += 1\n",
    "    shannonEnt = 0.0\n",
    "    for key in labelCounts:\n",
    "        prob = float(labelCounts[key]) / numEntries\n",
    "        shannonEnt -= prob * log(prob, 2)  # log base 2\n",
    "    return shannonEnt\n",
    "\n",
    "\n",
    "def splitDataSet(dataSet, axis, value):\n",
    "    retDataSet = []\n",
    "    for featVec in dataSet:\n",
    "        if featVec[axis] == value:\n",
    "            reducedFeatVec = featVec[:axis]  # chop out axis used for splitting\n",
    "            reducedFeatVec.extend(featVec[axis + 1:])\n",
    "            retDataSet.append(reducedFeatVec)\n",
    "    return retDataSet\n",
    "\n",
    "\n",
    "def chooseBestFeatureToSplit(dataSet):\n",
    "    numFeatures = len(dataSet[0]) - 1  # the last column is used for the labels\n",
    "    baseEntropy = calcShannonEnt(dataSet)\n",
    "    bestInfoGain = 0.0;\n",
    "    bestFeature = -1\n",
    "    for i in range(numFeatures):  # iterate over all the features\n",
    "        featList = [example[i] for example in dataSet]  # create a list of all the examples of this feature\n",
    "        uniqueVals = set(featList)  # get a set of unique values\n",
    "        newEntropy = 0.0\n",
    "        for value in uniqueVals:\n",
    "            subDataSet = splitDataSet(dataSet, i, value)\n",
    "            prob = len(subDataSet) / float(len(dataSet))\n",
    "            newEntropy += prob * calcShannonEnt(subDataSet)\n",
    "\n",
    "\n",
    "        infoGain = baseEntropy - newEntropy  # calculate the info gain; ie reduction in entropy\n",
    "        \"\"\"\n",
    "        print(\"feature : \" + str(i))\n",
    "        print(\"baseEntropy : \"+str(baseEntropy))\n",
    "        print(\"newEntropy : \" + str(newEntropy))\n",
    "        print(\"infoGain : \" + str(infoGain))\n",
    "        \"\"\"\n",
    "        if (infoGain > bestInfoGain):  # compare this to the best gain so far\n",
    "            bestInfoGain = infoGain  # if better than current best, set to best\n",
    "            bestFeature = i\n",
    "    return bestFeature  # returns an integer\n",
    "\n",
    "\n",
    "def majorityCnt(classList):\n",
    "    classCount = {}\n",
    "    for vote in classList:\n",
    "        if vote not in classCount.keys(): classCount[vote] = 0\n",
    "        classCount[vote] += 1\n",
    "    sortedClassCount = sorted(classCount.iteritems(), key=operator.itemgetter(1), reverse=True)\n",
    "    return sortedClassCount[0][0]\n",
    "\n",
    "\n",
    "def createTree(dataSet, labels):\n",
    "    # extracting data\n",
    "    classList = [example[-1] for example in dataSet]\n",
    "    if classList.count(classList[0]) == len(classList):\n",
    "        return classList[0]  # stop splitting when all of the classes are equal\n",
    "    if len(dataSet[0]) == 1:  # stop splitting when there are no more features in dataSet\n",
    "        return majorityCnt(classList)\n",
    "    # use Information Gain\n",
    "    bestFeat = chooseBestFeatureToSplit(dataSet)\n",
    "    bestFeatLabel = labels[bestFeat]\n",
    "\n",
    "    #build a tree recursively\n",
    "    myTree = {bestFeatLabel: {}}\n",
    "    #print(\"myTree : \"+labels[bestFeat])\n",
    "    del (labels[bestFeat])\n",
    "    featValues = [example[bestFeat] for example in dataSet]\n",
    "    #print(\"featValues: \"+str(featValues))\n",
    "    uniqueVals = set(featValues)\n",
    "    #print(\"uniqueVals: \" + str(uniqueVals))\n",
    "    for value in uniqueVals:\n",
    "        subLabels = labels[:]  # copy all of labels, so trees don't mess up existing labels\n",
    "        #print(\"subLabels\"+str(subLabels))\n",
    "        myTree[bestFeatLabel][value] = createTree(splitDataSet(dataSet, bestFeat, value), subLabels)\n",
    "        #print(\"myTree : \" + str(myTree))\n",
    "    return myTree\n",
    "\n",
    "\n",
    "def classify(inputTree, featLabels, testVec):\n",
    "    firstStr = inputTree.keys()[0]\n",
    "    #print(\"fistStr : \"+firstStr)\n",
    "    secondDict = inputTree[firstStr]\n",
    "    #print(\"secondDict : \" + str(secondDict))\n",
    "    featIndex = featLabels.index(firstStr)\n",
    "    #print(\"featIndex : \" + str(featIndex))\n",
    "    key = testVec[featIndex]\n",
    "    #print(\"key : \" + str(key))\n",
    "    if key not in secondDict.keys():\n",
    "        return -1\n",
    "    \n",
    "    valueOfFeat = secondDict[key]\n",
    "    #print(\"valueOfFeat : \" + str(valueOfFeat))\n",
    "    if isinstance(valueOfFeat, dict):\n",
    "        #print(\"is instance: \"+str(valueOfFeat))\n",
    "        classLabel = classify(valueOfFeat, featLabels, testVec)\n",
    "    else:\n",
    "        #print(\"is Not instance: \" + valueOfFeat)\n",
    "        classLabel = valueOfFeat\n",
    "    return classLabel\n",
    "\n",
    "def drawTree(myTree):\n",
    "    import pydot\n",
    "\n",
    "    menu=myTree\n",
    "    \n",
    "    def draw(parent_name, child_name):\n",
    "        edge = pydot.Edge(parent_name, child_name)\n",
    "        graph.add_edge(edge)\n",
    "\n",
    "    def visit(node, parent=None):\n",
    "        for k,v in node.iteritems():\n",
    "            if isinstance(v, dict):\n",
    "            # We start with the root node whose parent is None\n",
    "            # we don't want to graph the None node\n",
    "                if parent:\n",
    "                    draw(parent, k)\n",
    "                visit(v, k)\n",
    "            else:\n",
    "                draw(parent, k)\n",
    "            # drawing the label using a distinct name\n",
    "                draw(k, str(k)+'_'+str(v))\n",
    "\n",
    "    graph = pydot.Dot(graph_type='graph')\n",
    "    visit(menu)\n",
    "    graph.write_png('DecisionTree.png')\n",
    "    \n",
    "def preprocess(dataset):\n",
    "    \n",
    "    #Change all attributes's classes to class of integers except atrributes with continuous values\n",
    "\n",
    "    \n",
    "    continuous=[3,4,8,32,33,34]\n",
    "    total_attributes=len(dataset[0])-1\n",
    "    for attribute in range(total_attributes):\n",
    "        if attribute not in continuous:\n",
    "            #print (attribute)\n",
    "            classes_in_attributes=list(set([row[attribute] for row in dataset]))\n",
    "            classDict={}\n",
    "            for index in range(len(classes_in_attributes)):\n",
    "                classDict[classes_in_attributes[index]]=index\n",
    "            for row in dataset:\n",
    "                row[attribute]=int(classDict[row[attribute]])\n",
    "    \n",
    "    for attribute in continuous:\n",
    "        for row in dataset:\n",
    "            row[attribute]=float(row[attribute])\n",
    "                \n",
    "    for attribute in continuous:\n",
    "        bins=80\n",
    "        binSize=0\n",
    "        minVal=(dataset[0][attribute])\n",
    "        maxVal=(dataset[0][attribute])\n",
    "        for i in range(1,len(dataset)):\n",
    "            if dataset[i][attribute]>maxVal:\n",
    "                maxVal=dataset[i][attribute]\n",
    "            elif dataset[i][attribute]<minVal:\n",
    "                minVal=dataset[i][attribute]\n",
    "        binSize=(maxVal-minVal)/bins\n",
    "        #print (attribute,minVal,maxVal)\n",
    "        for i in range(bins):\n",
    "            for row in dataset:\n",
    "                if row[attribute]>=minVal+(i*binSize) and row[attribute]<=minVal+((i+1)*binSize):\n",
    "                    row[attribute]=i\n",
    "        \n",
    "        #column=[row[attribute] for row in dataset]\n",
    "        #print (column)\n",
    "    return dataset\n",
    "\n",
    "\n",
    "# collect data\n",
    "myDat, labels = createDataSet(\"train.csv\")\n",
    "\n",
    "#build a tree\n",
    "mytree = createTree(myDat, labels)\n",
    "print(mytree)\n",
    "\n",
    "drawTree(mytree)\n",
    "\n",
    "testDat,labels=createDataSet(\"test.csv\")\n",
    "\n",
    "correct=0\n",
    "\n",
    "for row in testDat:\n",
    "    prediction=classify(mytree,labels,row[0:len(row)-1])\n",
    "    actual=row[-1]\n",
    "    print (\"actual: \"+str(actual)+\"\\tPredicted: \"+str(prediction))\n",
    "    if(prediction==actual):\n",
    "        correct+=1\n",
    "print (\"Accuracy Percentage: \"+str(correct/float(len(testDat))*100))\n",
    "    \n",
    "\n"
   ]
  },
  {
   "cell_type": "code",
   "execution_count": null,
   "metadata": {
    "collapsed": true
   },
   "outputs": [],
   "source": []
  },
  {
   "cell_type": "code",
   "execution_count": null,
   "metadata": {
    "collapsed": true
   },
   "outputs": [],
   "source": []
  },
  {
   "cell_type": "code",
   "execution_count": null,
   "metadata": {
    "collapsed": true
   },
   "outputs": [],
   "source": []
  },
  {
   "cell_type": "code",
   "execution_count": null,
   "metadata": {
    "collapsed": true
   },
   "outputs": [],
   "source": []
  },
  {
   "cell_type": "code",
   "execution_count": null,
   "metadata": {
    "collapsed": true
   },
   "outputs": [],
   "source": []
  },
  {
   "cell_type": "code",
   "execution_count": null,
   "metadata": {
    "collapsed": true
   },
   "outputs": [],
   "source": []
  },
  {
   "cell_type": "code",
   "execution_count": null,
   "metadata": {
    "collapsed": true
   },
   "outputs": [],
   "source": []
  },
  {
   "cell_type": "code",
   "execution_count": null,
   "metadata": {
    "collapsed": true
   },
   "outputs": [],
   "source": []
  },
  {
   "cell_type": "code",
   "execution_count": null,
   "metadata": {
    "collapsed": true
   },
   "outputs": [],
   "source": []
  },
  {
   "cell_type": "code",
   "execution_count": null,
   "metadata": {
    "collapsed": true
   },
   "outputs": [],
   "source": []
  },
  {
   "cell_type": "code",
   "execution_count": null,
   "metadata": {
    "collapsed": true
   },
   "outputs": [],
   "source": []
  },
  {
   "cell_type": "code",
   "execution_count": null,
   "metadata": {
    "collapsed": true
   },
   "outputs": [],
   "source": []
  },
  {
   "cell_type": "code",
   "execution_count": null,
   "metadata": {
    "collapsed": true
   },
   "outputs": [],
   "source": []
  },
  {
   "cell_type": "code",
   "execution_count": null,
   "metadata": {
    "collapsed": true
   },
   "outputs": [],
   "source": []
  },
  {
   "cell_type": "code",
   "execution_count": null,
   "metadata": {
    "collapsed": true
   },
   "outputs": [],
   "source": []
  },
  {
   "cell_type": "code",
   "execution_count": null,
   "metadata": {
    "collapsed": true
   },
   "outputs": [],
   "source": []
  },
  {
   "cell_type": "code",
   "execution_count": null,
   "metadata": {
    "collapsed": true
   },
   "outputs": [],
   "source": []
  },
  {
   "cell_type": "code",
   "execution_count": null,
   "metadata": {
    "collapsed": true
   },
   "outputs": [],
   "source": []
  },
  {
   "cell_type": "code",
   "execution_count": null,
   "metadata": {
    "collapsed": true
   },
   "outputs": [],
   "source": []
  },
  {
   "cell_type": "code",
   "execution_count": null,
   "metadata": {
    "collapsed": true
   },
   "outputs": [],
   "source": []
  },
  {
   "cell_type": "code",
   "execution_count": null,
   "metadata": {
    "collapsed": true
   },
   "outputs": [],
   "source": []
  },
  {
   "cell_type": "code",
   "execution_count": null,
   "metadata": {
    "collapsed": true
   },
   "outputs": [],
   "source": []
  },
  {
   "cell_type": "code",
   "execution_count": null,
   "metadata": {
    "collapsed": true
   },
   "outputs": [],
   "source": []
  },
  {
   "cell_type": "code",
   "execution_count": null,
   "metadata": {
    "collapsed": true
   },
   "outputs": [],
   "source": []
  },
  {
   "cell_type": "code",
   "execution_count": null,
   "metadata": {
    "collapsed": true
   },
   "outputs": [],
   "source": []
  },
  {
   "cell_type": "code",
   "execution_count": null,
   "metadata": {
    "collapsed": true
   },
   "outputs": [],
   "source": []
  },
  {
   "cell_type": "code",
   "execution_count": null,
   "metadata": {
    "collapsed": true
   },
   "outputs": [],
   "source": []
  },
  {
   "cell_type": "code",
   "execution_count": null,
   "metadata": {
    "collapsed": true
   },
   "outputs": [],
   "source": []
  },
  {
   "cell_type": "code",
   "execution_count": null,
   "metadata": {
    "collapsed": true
   },
   "outputs": [],
   "source": []
  },
  {
   "cell_type": "code",
   "execution_count": null,
   "metadata": {
    "collapsed": true
   },
   "outputs": [],
   "source": []
  },
  {
   "cell_type": "code",
   "execution_count": null,
   "metadata": {
    "collapsed": true
   },
   "outputs": [],
   "source": []
  },
  {
   "cell_type": "code",
   "execution_count": null,
   "metadata": {
    "collapsed": true
   },
   "outputs": [],
   "source": []
  },
  {
   "cell_type": "code",
   "execution_count": null,
   "metadata": {
    "collapsed": true
   },
   "outputs": [],
   "source": []
  },
  {
   "cell_type": "code",
   "execution_count": null,
   "metadata": {
    "collapsed": true
   },
   "outputs": [],
   "source": []
  },
  {
   "cell_type": "code",
   "execution_count": null,
   "metadata": {
    "collapsed": true
   },
   "outputs": [],
   "source": []
  },
  {
   "cell_type": "code",
   "execution_count": null,
   "metadata": {
    "collapsed": true
   },
   "outputs": [],
   "source": []
  },
  {
   "cell_type": "code",
   "execution_count": null,
   "metadata": {
    "collapsed": true
   },
   "outputs": [],
   "source": []
  },
  {
   "cell_type": "code",
   "execution_count": null,
   "metadata": {
    "collapsed": true
   },
   "outputs": [],
   "source": []
  },
  {
   "cell_type": "code",
   "execution_count": null,
   "metadata": {
    "collapsed": true
   },
   "outputs": [],
   "source": []
  },
  {
   "cell_type": "code",
   "execution_count": null,
   "metadata": {
    "collapsed": true
   },
   "outputs": [],
   "source": []
  },
  {
   "cell_type": "code",
   "execution_count": null,
   "metadata": {
    "collapsed": true
   },
   "outputs": [],
   "source": []
  },
  {
   "cell_type": "code",
   "execution_count": null,
   "metadata": {
    "collapsed": true
   },
   "outputs": [],
   "source": []
  },
  {
   "cell_type": "code",
   "execution_count": null,
   "metadata": {
    "collapsed": true
   },
   "outputs": [],
   "source": []
  },
  {
   "cell_type": "code",
   "execution_count": null,
   "metadata": {
    "collapsed": true
   },
   "outputs": [],
   "source": []
  },
  {
   "cell_type": "code",
   "execution_count": null,
   "metadata": {
    "collapsed": true
   },
   "outputs": [],
   "source": []
  },
  {
   "cell_type": "code",
   "execution_count": null,
   "metadata": {
    "collapsed": true
   },
   "outputs": [],
   "source": []
  },
  {
   "cell_type": "code",
   "execution_count": null,
   "metadata": {
    "collapsed": true
   },
   "outputs": [],
   "source": []
  },
  {
   "cell_type": "code",
   "execution_count": null,
   "metadata": {
    "collapsed": true
   },
   "outputs": [],
   "source": []
  },
  {
   "cell_type": "code",
   "execution_count": null,
   "metadata": {
    "collapsed": true
   },
   "outputs": [],
   "source": []
  },
  {
   "cell_type": "code",
   "execution_count": null,
   "metadata": {
    "collapsed": true
   },
   "outputs": [],
   "source": []
  },
  {
   "cell_type": "code",
   "execution_count": null,
   "metadata": {
    "collapsed": true
   },
   "outputs": [],
   "source": []
  },
  {
   "cell_type": "code",
   "execution_count": null,
   "metadata": {
    "collapsed": true
   },
   "outputs": [],
   "source": []
  },
  {
   "cell_type": "code",
   "execution_count": null,
   "metadata": {
    "collapsed": true
   },
   "outputs": [],
   "source": []
  },
  {
   "cell_type": "code",
   "execution_count": null,
   "metadata": {
    "collapsed": true
   },
   "outputs": [],
   "source": []
  },
  {
   "cell_type": "code",
   "execution_count": null,
   "metadata": {
    "collapsed": true
   },
   "outputs": [],
   "source": []
  },
  {
   "cell_type": "code",
   "execution_count": null,
   "metadata": {
    "collapsed": true
   },
   "outputs": [],
   "source": []
  },
  {
   "cell_type": "code",
   "execution_count": null,
   "metadata": {
    "collapsed": true
   },
   "outputs": [],
   "source": []
  },
  {
   "cell_type": "code",
   "execution_count": null,
   "metadata": {
    "collapsed": true
   },
   "outputs": [],
   "source": []
  },
  {
   "cell_type": "code",
   "execution_count": null,
   "metadata": {
    "collapsed": true
   },
   "outputs": [],
   "source": []
  },
  {
   "cell_type": "code",
   "execution_count": null,
   "metadata": {
    "collapsed": true
   },
   "outputs": [],
   "source": []
  },
  {
   "cell_type": "code",
   "execution_count": null,
   "metadata": {
    "collapsed": true
   },
   "outputs": [],
   "source": []
  },
  {
   "cell_type": "code",
   "execution_count": null,
   "metadata": {
    "collapsed": true
   },
   "outputs": [],
   "source": []
  },
  {
   "cell_type": "code",
   "execution_count": null,
   "metadata": {
    "collapsed": true
   },
   "outputs": [],
   "source": []
  },
  {
   "cell_type": "code",
   "execution_count": null,
   "metadata": {
    "collapsed": true
   },
   "outputs": [],
   "source": []
  },
  {
   "cell_type": "code",
   "execution_count": null,
   "metadata": {
    "collapsed": true
   },
   "outputs": [],
   "source": []
  },
  {
   "cell_type": "code",
   "execution_count": null,
   "metadata": {
    "collapsed": true
   },
   "outputs": [],
   "source": []
  },
  {
   "cell_type": "code",
   "execution_count": null,
   "metadata": {
    "collapsed": true
   },
   "outputs": [],
   "source": []
  },
  {
   "cell_type": "code",
   "execution_count": null,
   "metadata": {
    "collapsed": true
   },
   "outputs": [],
   "source": []
  },
  {
   "cell_type": "code",
   "execution_count": null,
   "metadata": {
    "collapsed": true
   },
   "outputs": [],
   "source": []
  },
  {
   "cell_type": "code",
   "execution_count": null,
   "metadata": {
    "collapsed": true
   },
   "outputs": [],
   "source": []
  },
  {
   "cell_type": "code",
   "execution_count": null,
   "metadata": {
    "collapsed": true
   },
   "outputs": [],
   "source": []
  },
  {
   "cell_type": "code",
   "execution_count": null,
   "metadata": {
    "collapsed": true
   },
   "outputs": [],
   "source": []
  },
  {
   "cell_type": "code",
   "execution_count": null,
   "metadata": {
    "collapsed": true
   },
   "outputs": [],
   "source": []
  },
  {
   "cell_type": "code",
   "execution_count": null,
   "metadata": {
    "collapsed": true
   },
   "outputs": [],
   "source": []
  },
  {
   "cell_type": "code",
   "execution_count": null,
   "metadata": {
    "collapsed": true
   },
   "outputs": [],
   "source": []
  },
  {
   "cell_type": "code",
   "execution_count": null,
   "metadata": {
    "collapsed": true
   },
   "outputs": [],
   "source": []
  },
  {
   "cell_type": "code",
   "execution_count": null,
   "metadata": {
    "collapsed": true
   },
   "outputs": [],
   "source": []
  },
  {
   "cell_type": "code",
   "execution_count": null,
   "metadata": {
    "collapsed": true
   },
   "outputs": [],
   "source": []
  },
  {
   "cell_type": "code",
   "execution_count": null,
   "metadata": {
    "collapsed": true
   },
   "outputs": [],
   "source": []
  },
  {
   "cell_type": "code",
   "execution_count": null,
   "metadata": {
    "collapsed": true
   },
   "outputs": [],
   "source": []
  },
  {
   "cell_type": "code",
   "execution_count": null,
   "metadata": {
    "collapsed": true
   },
   "outputs": [],
   "source": []
  },
  {
   "cell_type": "code",
   "execution_count": null,
   "metadata": {
    "collapsed": true
   },
   "outputs": [],
   "source": []
  },
  {
   "cell_type": "code",
   "execution_count": null,
   "metadata": {
    "collapsed": true
   },
   "outputs": [],
   "source": []
  },
  {
   "cell_type": "code",
   "execution_count": null,
   "metadata": {
    "collapsed": true
   },
   "outputs": [],
   "source": []
  },
  {
   "cell_type": "code",
   "execution_count": null,
   "metadata": {
    "collapsed": true
   },
   "outputs": [],
   "source": []
  },
  {
   "cell_type": "code",
   "execution_count": null,
   "metadata": {
    "collapsed": true
   },
   "outputs": [],
   "source": []
  },
  {
   "cell_type": "code",
   "execution_count": null,
   "metadata": {
    "collapsed": true
   },
   "outputs": [],
   "source": []
  },
  {
   "cell_type": "code",
   "execution_count": null,
   "metadata": {
    "collapsed": true
   },
   "outputs": [],
   "source": []
  }
 ],
 "metadata": {
  "kernelspec": {
   "display_name": "Python 2",
   "language": "python",
   "name": "python2"
  },
  "language_info": {
   "codemirror_mode": {
    "name": "ipython",
    "version": 2
   },
   "file_extension": ".py",
   "mimetype": "text/x-python",
   "name": "python",
   "nbconvert_exporter": "python",
   "pygments_lexer": "ipython2",
   "version": "2.7.12"
  }
 },
 "nbformat": 4,
 "nbformat_minor": 2
}
